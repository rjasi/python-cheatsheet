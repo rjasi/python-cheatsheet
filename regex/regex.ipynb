{
 "cells": [
  {
   "cell_type": "code",
   "execution_count": 2,
   "metadata": {},
   "outputs": [],
   "source": [
    "import re \n",
    "\n",
    "# Lesson from https://regexone.com/\n",
    "\n",
    "\"\"\"\n",
    "Syntax: \n",
    "\n",
    "abc… Letters\n",
    "123… Digits\n",
    "\\d Any Digit\n",
    "\\D Any Non-digit character\n",
    ". Any Character\n",
    "\\. Period\n",
    "[abc] Only a, b, or c\n",
    "[^abc] Not a, b, nor c\n",
    "[a-z] Characters a to z\n",
    "[0-9] Numbers 0 to 9\n",
    "\\w Any Alphanumeric character\n",
    "\\W Any Non-alphanumeric character\n",
    "{m} m Repetitions\n",
    "{m,n} m to n Repetitions\n",
    "* Zero or more repetitions\n",
    "+ One or more repetitions\n",
    "? Optional character\n",
    "\\s Any Whitespace\n",
    "\\S Any Non-whitespace character\n",
    "^…$ Starts and ends\n",
    "(…) Capture Group\n",
    "(a(bc)) Capture Sub-group\n",
    "(.*) Capture all\n",
    "(abc|def) Matches abc or def\n",
    "\"\"\"\n"
   ]
  },
  {
   "cell_type": "code",
   "execution_count": 31,
   "metadata": {},
   "outputs": [
    {
     "data": {
      "text/plain": [
       "['1', '2', '3']"
      ]
     },
     "execution_count": 31,
     "metadata": {},
     "output_type": "execute_result"
    }
   ],
   "source": [
    "# numbers 0-9\n",
    "\n",
    "txt = \"123abc\"\n",
    "x = re.findall(\"\\d\", txt) \n",
    "x"
   ]
  },
  {
   "cell_type": "code",
   "execution_count": 32,
   "metadata": {},
   "outputs": [
    {
     "name": "stdout",
     "output_type": "stream",
     "text": [
      "['1', '2', '3', 'a', 'b', 'c', '.']\n"
     ]
    },
    {
     "data": {
      "text/plain": [
       "['1', '2', '3', 'a', 'b', 'c', '.']"
      ]
     },
     "execution_count": 32,
     "metadata": {},
     "output_type": "execute_result"
    }
   ],
   "source": [
    "# wild card \n",
    "\n",
    "txt = \"123abc.\"\n",
    "x = re.findall(\".\", txt)\n",
    "print(x)\n",
    "# to escape the dot and look for dots on only use \\. \n",
    "x = re.findall(\".\", txt) \n",
    "\n",
    "x"
   ]
  },
  {
   "cell_type": "code",
   "execution_count": 33,
   "metadata": {},
   "outputs": [
    {
     "name": "stdout",
     "output_type": "stream",
     "text": [
      "['c']\n",
      "[]\n"
     ]
    }
   ],
   "source": [
    "# specific patterns. put them in brackets \n",
    "# pattern [abc] will only match a single a, b, or c letter and nothing else\n",
    "\n",
    "txt = \"can\"\n",
    "x = re.findall(\"[cmf]\", txt)\n",
    "txt = \"pan\"\n",
    "print(x)\n",
    "x = re.findall(\"[cmf]\", txt)\n",
    "print(x)\n"
   ]
  },
  {
   "cell_type": "code",
   "execution_count": 34,
   "metadata": {},
   "outputs": [
    {
     "name": "stdout",
     "output_type": "stream",
     "text": [
      "['a', 'n']\n",
      "[]\n"
     ]
    }
   ],
   "source": [
    "# exclude specific characters, use ^\n",
    "# pattern [^abc] will match any single character except for the letters a, b, or c.\n",
    "txt = \"can\"\n",
    "x = re.findall(\"[^cmf]\", txt)\n",
    "print(x)\n",
    "txt = \"cmf\"\n",
    "x = re.findall(\"[^cmf]\", txt)\n",
    "print(x)\n",
    "\n"
   ]
  },
  {
   "cell_type": "code",
   "execution_count": 35,
   "metadata": {},
   "outputs": [
    {
     "name": "stdout",
     "output_type": "stream",
     "text": [
      "['A']\n",
      "[]\n",
      "['c', 'm', 'f']\n"
     ]
    }
   ],
   "source": [
    "# Character ranges \n",
    "#  For example, the pattern [0-6] will only match any single digit character from zero to six, and nothing else. \n",
    "#  [^n-p] will only match any single character except for letters n to p.\n",
    "# using the dash to indicate a character range\n",
    "#  alphanumeric \\w metacharacter which is equivalent to the character range [A-Za-z0-9_]\n",
    "\n",
    "txt = \"Aan\"\n",
    "x = re.findall(\"[A-Z]\", txt)\n",
    "print(x)\n",
    "txt = \"cmf\"\n",
    "x = re.findall(\"[A-Z]\", txt)\n",
    "print(x)\n",
    "\n",
    "txt = \"cmf\"\n",
    "x = re.findall(\"[^A-Z]\", txt) # exlucde uppercase \n",
    "print(x)"
   ]
  },
  {
   "cell_type": "code",
   "execution_count": 6,
   "metadata": {},
   "outputs": [
    {
     "name": "stdout",
     "output_type": "stream",
     "text": [
      "['zzz']\n",
      "['zzzu']\n",
      "['1241', '1334']\n"
     ]
    }
   ],
   "source": [
    "# repetition \n",
    "#  a{3} will match the a character exactly three times\n",
    "# specify a range for this repetition such that a{1,3} \n",
    "#  [wxy]{5} (five characters, each of which can be a w, x, or y) and .{2,6} (between two and six of any character).\n",
    "\n",
    "\n",
    "txt = \"wazzzup\"\n",
    "x = re.findall(\"z{3}\", txt)\n",
    "print(x)\n",
    "txt = \"wazzzup\"\n",
    "x = re.findall(\"[zu]{4}\", txt)\n",
    "print(x)\n",
    "txt = \"wazzzup12411334\"\n",
    "x = re.findall(\"[\\d]{4}\", txt)\n",
    "print(x)"
   ]
  },
  {
   "cell_type": "code",
   "execution_count": 52,
   "metadata": {},
   "outputs": [
    {
     "name": "stdout",
     "output_type": "stream",
     "text": [
      "a\n",
      "aaaa\n",
      "aaaabcc\n"
     ]
    }
   ],
   "source": [
    "# Kleene Star\n",
    "# 0 or more or 1 or more of the character that it follows (it always follows a character or group).\n",
    "# pattern \\d* to match any number of digits\n",
    "# \\d+ which ensures that the input string has at least one digit\n",
    "# example a+ (one or more a's), [abc]+ (one or more of any a, b, or c character) and \n",
    "# .* (zero or more of any character).\n",
    "\n",
    "txt = \"aaaabcc\"\n",
    "x = re.findall(\"a\", txt)[0]\n",
    "print(x)\n",
    "x = re.findall(\"a+\", txt)[0]\n",
    "print(x)\n",
    "x = re.findall(\"a+.c+\", txt)[0]\n",
    "print(x)\n"
   ]
  },
  {
   "cell_type": "code",
   "execution_count": 62,
   "metadata": {},
   "outputs": [
    {
     "name": "stdout",
     "output_type": "stream",
     "text": [
      "14 file\n"
     ]
    }
   ],
   "source": [
    "# optional Characters  \n",
    "# the pattern ab?c will match either the strings \"abc\" or \"ac\" because the b is considered optional.\n",
    "# escape it using a slash \\? \n",
    "\n",
    "txt = \"14 file found?\"\n",
    "x = re.findall(\"[0-9]+\\sfiles?\", txt)[0]\n",
    "print(x)"
   ]
  },
  {
   "cell_type": "code",
   "execution_count": 68,
   "metadata": {},
   "outputs": [
    {
     "name": "stdout",
     "output_type": "stream",
     "text": [
      "14 file\n",
      "14file\n"
     ]
    },
    {
     "data": {
      "text/plain": [
       "' '"
      ]
     },
     "execution_count": 68,
     "metadata": {},
     "output_type": "execute_result"
    }
   ],
   "source": [
    "# whitespace\n",
    "# space (␣), the tab (\\t), the new line (\\n) and the carriage return (\\r) \n",
    "# whitespace special character \\s will match any of the specific whitespaces above \n",
    "\n",
    "txt = \"14 file found?\"\n",
    "x = re.findall(\"[0-9]+\\sfiles?\", txt)[0]\n",
    "print(x)\n",
    "\n",
    "txt = \"14file found?\"\n",
    "x = re.findall(\"[0-9]+files?\", txt)[0]\n",
    "print(x)\n",
    "\n",
    "txt = \"3.           abc\"\n",
    "x = re.findall(\"\\s+\", txt)[0]\n",
    "len(x)\n",
    "txt = \"3.           abc\"\n",
    "x = re.findall(\"\\s\", txt)[0]\n",
    "x"
   ]
  },
  {
   "cell_type": "code",
   "execution_count": 74,
   "metadata": {},
   "outputs": [
    {
     "name": "stdout",
     "output_type": "stream",
     "text": [
      "Mission\n",
      "[]\n",
      "Mission\n"
     ]
    }
   ],
   "source": [
    "# Starting and ending \n",
    "# describes both the start and the end of the line using the special ^ (hat) and $ (dollar sign) metacharacter\n",
    "# ^success to match only a line that begins with the word \"success\"\n",
    "# Note that this is different than the hat used inside a set of bracket [^...] for excluding characters, \n",
    "# which can be confusing when reading regular expressio\n",
    "# for start and end of a line \n",
    "\n",
    "txt = \"Mission\"\n",
    "x = re.findall(\"^Mission$\", txt)[0]\n",
    "print(x)\n",
    "txt = \"Mission h\"\n",
    "x = re.findall(\"^Mission$\", txt)\n",
    "print(x)\n",
    "\n",
    "txt = \"Mission h\"\n",
    "x = re.findall(\"^Mission\", txt)[0]\n",
    "print(x)"
   ]
  },
  {
   "cell_type": "code",
   "execution_count": 76,
   "metadata": {},
   "outputs": [
    {
     "name": "stdout",
     "output_type": "stream",
     "text": [
      "file_record_transcript\n",
      "file_record_transcript.pdf\n"
     ]
    }
   ],
   "source": [
    "# Match groups   Lesson 11\n",
    "# defining groups of characters and capturing them using the special parentheses ( and ) metacharacters\n",
    "# pattern such as ^(IMG\\d+\\.png)$ to capture and extract the full filename\n",
    "# ^(IMG\\d+)\\.png$ which only captures the part before the period\n",
    "\n",
    "txt = \"file_record_transcript.pdf\"\n",
    "x = re.findall(\"^(file_.*)\\.pdf$\", txt)[0]\n",
    "print(x)\n",
    "txt = \"file_record_transcript.pdf\"\n",
    "x = re.findall(\"^(file_.*\\.pdf)$\", txt)[0] # keep extension \n",
    "print(x)"
   ]
  },
  {
   "cell_type": "code",
   "execution_count": 13,
   "metadata": {},
   "outputs": [
    {
     "name": "stdout",
     "output_type": "stream",
     "text": [
      "[('Jan 1987', '1987')]\n",
      "[('Jan', '1987')]\n",
      "['Jan 1987']\n",
      "[('1280', '720')]\n"
     ]
    }
   ],
   "source": [
    "\"\"\"\n",
    "Nested groups \n",
    "\n",
    " extract filename and the picture number using the same pattern by writing an expression like ^(IMG(\\d+))\\.png$ \n",
    " (using a nested parenthesis to capture the digits).\n",
    "\"\"\"\n",
    "\n",
    "txt = \"Jan 1987\"\n",
    "x = re.findall(\"^(\\w\\w\\w\\s(\\d+))$\", txt)\n",
    "print(x) \n",
    "\n",
    "# group 1 = (\\w\\w\\w\\s(\\d+))\n",
    "# group 2 = (\\d+)\n",
    "\n",
    "txt = \"Jan 1987\"\n",
    "x = re.findall(\"^(\\w\\w\\w)\\s(\\d+)$\", txt)\n",
    "print(x) \n",
    "\n",
    "txt = \"Jan 1987\"\n",
    "x = re.findall(\"^(\\w\\w\\w\\s\\d+)$\", txt)\n",
    "print(x) \n",
    "\n",
    "txt = \"1280x720\"\n",
    "x = re.findall(\"^(\\d+)x(\\d+)$\", txt)\n",
    "print(x) "
   ]
  },
  {
   "cell_type": "code",
   "execution_count": 25,
   "metadata": {},
   "outputs": [
    {
     "name": "stdout",
     "output_type": "stream",
     "text": [
      "[('I love cats', 'cats')]\n",
      "['dogs']\n"
     ]
    }
   ],
   "source": [
    "\"\"\"\n",
    "Conditionals \n",
    "\"\"\"\n",
    "\n",
    "txt = \"I love cats\"\n",
    "x = re.findall(\"^(I\\slove\\s(cats|dogs))$\", txt)\n",
    "print(x) \n",
    "\n",
    "txt = \"I love dogs\"\n",
    "\n",
    "x = re.findall(\"^I\\slove\\s(cats|dogs)$\", txt)\n",
    "print(x) "
   ]
  },
  {
   "cell_type": "code",
   "execution_count": 34,
   "metadata": {},
   "outputs": [
    {
     "name": "stdout",
     "output_type": "stream",
     "text": [
      "['3.14529', '', '-255.34', '', '128', '', '1.9e10', '', '123,340.00', '', '720p', '', '']\n",
      "[['3.14529'], [], ['-255.34'], [], ['128'], [], ['1.9e10'], [], ['123,340.00'], [], [], [], []]\n",
      "[[('', '.14529', '')], [], [('', '.34', '')], [], [('', '', '')], [], [('', '.9e10', 'e10')], [], [(',340', '.00', '')], [], [], [], []]\n"
     ]
    },
    {
     "data": {
      "text/plain": [
       "'\\n^-?\\\\d+,?\\\\.?\\\\d+e?\\\\.?\\\\d+$\\n\\n-?: optional - sign\\n\\\\d+: 1 or more digits \\n,?: optional comma\\n\\\\.?: optional period\\n\\\\d+: 1 or more digits \\ne?: optional e \\n\\\\.?: optional period\\n\\\\d+: 1 ore more digits\\n\\n\\n^\\\\d+\\\\d+\\\\d+$\\n\\n'"
      ]
     },
     "execution_count": 34,
     "metadata": {},
     "output_type": "execute_result"
    }
   ],
   "source": [
    "\"\"\"\n",
    "Problem 1 matching decimal numbers \n",
    "\n",
    "\"\"\"\n",
    "\n",
    "txt = \"\"\"3.14529\\n\n",
    "-255.34\\n\n",
    "128\\n\n",
    "1.9e10\\n\n",
    "123,340.00\\n\n",
    "720p\\n\n",
    "\"\"\"\n",
    "print(txt.split(\"\\n\"))\n",
    "\n",
    "x = list(map(lambda x : re.findall(\"^-?\\d+,?\\.?\\d+e?\\.?\\d+$\", x), txt.split(\"\\n\")))\n",
    "\n",
    "print(x)\n",
    "\n",
    "# their solution \n",
    "x = list(map(lambda x : re.findall(\"^-?\\d+(,\\d+)*(\\.\\d+(e\\d+)?)?$\", x), txt.split(\"\\n\")))\n",
    "\n",
    "print(x)\n",
    "\n",
    "\"\"\"\n",
    "^-?\\d+,?\\.?\\d+e?\\.?\\d+$\n",
    "\n",
    "-?: optional - sign\n",
    "\\d+: 1 or more digits \n",
    ",?: optional comma\n",
    "\\.?: optional period\n",
    "\\d+: 1 or more digits \n",
    "e?: optional e \n",
    "\\.?: optional period\n",
    "\\d+: 1 ore more digits\n",
    "\n",
    "\n",
    "^\\d+\\d+\\d+$\n",
    "\n",
    "\"\"\""
   ]
  },
  {
   "cell_type": "code",
   "execution_count": 38,
   "metadata": {},
   "outputs": [
    {
     "name": "stdout",
     "output_type": "stream",
     "text": [
      "[('', '415')]\n"
     ]
    }
   ],
   "source": [
    "\"\"\"\n",
    "problem 2 matching phone numbers\n",
    "\"\"\"\n",
    "\n",
    "# ^\\(?\\d{3}\\)?\\s?\\-?\\d{3}\\s?-?\\d{4}$\n",
    "\n",
    "\n",
    "txt = \"415-555-1234\"\n",
    "x = re.findall(\"^(\\d{1}\\s)?\\(?(\\d{3})\\)?\", txt)\n",
    "print(x) \n",
    "\n",
    "# solution 1?[\\s-]?\\(?(\\d{3})\\)?[\\s-]?\\d{3}[\\s-]?\\d{4}\n"
   ]
  },
  {
   "cell_type": "code",
   "execution_count": 43,
   "metadata": {},
   "outputs": [
    {
     "name": "stdout",
     "output_type": "stream",
     "text": [
      "[('tom.riddle+regexone', 'tom.riddle', '.riddle', '')]\n",
      "[('tom.riddle', '.riddle', '+regexone')]\n"
     ]
    }
   ],
   "source": [
    "\"\"\"\n",
    "matching emails \n",
    "((\\w+\\.?\\w+)\\+?\\.?\\w+)@\\w+(\\.eu)?\\.com\n",
    "\"\"\"\n",
    "\n",
    "txt = \"tom.riddle+regexone@hogwarts.com\"\n",
    "x = re.findall(\"((\\w+(\\.\\w+)?)\\+?\\.?\\w+)@\\w+(\\.eu)?\\.com\", txt)\n",
    "print(x) \n",
    "x = re.findall(\"^(\\w+(\\.\\w+)?)(\\+\\w+)?@\", txt)\n",
    "print(x)\n"
   ]
  },
  {
   "cell_type": "code",
   "execution_count": 44,
   "metadata": {},
   "outputs": [
    {
     "name": "stdout",
     "output_type": "stream",
     "text": [
      "['a']\n"
     ]
    }
   ],
   "source": [
    "\"\"\"\n",
    "html\n",
    "\"\"\"\n",
    "\n",
    "txt = \"<a>This is a link</a>\"\n",
    "x = re.findall(\"<(a|div).*\", txt) # angle braket then a or div then anything after it \n",
    "print(x)"
   ]
  },
  {
   "cell_type": "code",
   "execution_count": 46,
   "metadata": {},
   "outputs": [
    {
     "name": "stdout",
     "output_type": "stream",
     "text": [
      "[('updated_img0912.png', 'updated_img0912', 'png')]\n"
     ]
    }
   ],
   "source": [
    "\"\"\"\n",
    "Problem 5: Matching specific filenames \n",
    "\"\"\"\n",
    "\n",
    "txt = \"updated_img0912.png\"\n",
    "x = re.findall(\"^(\\w+)\\.(jpg|png|gif)$\", txt) # 1 or more alpha numberic then period then one of the extensions \n",
    "print(x)"
   ]
  },
  {
   "cell_type": "code",
   "execution_count": 48,
   "metadata": {},
   "outputs": [
    {
     "name": "stdout",
     "output_type": "stream",
     "text": [
      "['jumps over the lazy dog']\n"
     ]
    }
   ],
   "source": [
    "\"\"\"\n",
    "trimming whitespace\n",
    "\"\"\"\n",
    "\n",
    "txt = \"jumps over the lazy dog\"\n",
    "x = re.findall(\"^\\s*(.*)\\s*$\", txt) # some whitespace, then anything, then some whitespace \n",
    "print(x)"
   ]
  },
  {
   "cell_type": "code",
   "execution_count": 49,
   "metadata": {},
   "outputs": [
    {
     "name": "stdout",
     "output_type": "stream",
     "text": [
      "[('fillFrom', 'ListView.java', '709')]\n"
     ]
    }
   ],
   "source": [
    "\"\"\"\n",
    "log file searching\n",
    "\"\"\"\n",
    "\n",
    "txt = \"E/( 1553):   at widget.List.fillFrom(ListView.java:709)\"\n",
    "x = re.findall(\"(\\w+)\\((\\w+.java):([0-9]+)\\)$\", txt)\n",
    "print(x)"
   ]
  },
  {
   "cell_type": "code",
   "execution_count": 51,
   "metadata": {},
   "outputs": [
    {
     "name": "stdout",
     "output_type": "stream",
     "text": [
      "[('https', 'regexone.com', 'regexone.com', '')]\n",
      "[('https', 'regexone.com', '')]\n"
     ]
    }
   ],
   "source": [
    "txt = \"https://regexone.com/lesson/introduction#sectio\"\n",
    "x = re.findall(\"(\\w+)://((\\w+\\.com|\\w+-\\w+.com|\\w+)?):?/?(\\d+)?\", txt) \n",
    "print(x)\n",
    "\n",
    "# simpler\n",
    "# match \\w+ until :// then match anything not : or / then optionally get port number\n",
    "x = re.findall(\"(\\w+)://([^:/]+):?/?(\\d+)?\", txt) \n",
    "print(x)"
   ]
  },
  {
   "cell_type": "code",
   "execution_count": null,
   "metadata": {},
   "outputs": [],
   "source": []
  }
 ],
 "metadata": {
  "kernelspec": {
   "display_name": "Python 3",
   "language": "python",
   "name": "python3"
  },
  "language_info": {
   "codemirror_mode": {
    "name": "ipython",
    "version": 3
   },
   "file_extension": ".py",
   "mimetype": "text/x-python",
   "name": "python",
   "nbconvert_exporter": "python",
   "pygments_lexer": "ipython3",
   "version": "3.7.4"
  }
 },
 "nbformat": 4,
 "nbformat_minor": 2
}

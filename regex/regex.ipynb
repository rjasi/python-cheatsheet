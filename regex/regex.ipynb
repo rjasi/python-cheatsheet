{
 "cells": [
  {
   "cell_type": "code",
   "execution_count": 5,
   "metadata": {},
   "outputs": [],
   "source": [
    "import re "
   ]
  },
  {
   "cell_type": "code",
   "execution_count": 31,
   "metadata": {},
   "outputs": [
    {
     "data": {
      "text/plain": [
       "['1', '2', '3']"
      ]
     },
     "execution_count": 31,
     "metadata": {},
     "output_type": "execute_result"
    }
   ],
   "source": [
    "# numbers 0-9\n",
    "\n",
    "txt = \"123abc\"\n",
    "x = re.findall(\"\\d\", txt) \n",
    "x"
   ]
  },
  {
   "cell_type": "code",
   "execution_count": 32,
   "metadata": {},
   "outputs": [
    {
     "name": "stdout",
     "output_type": "stream",
     "text": [
      "['1', '2', '3', 'a', 'b', 'c', '.']\n"
     ]
    },
    {
     "data": {
      "text/plain": [
       "['1', '2', '3', 'a', 'b', 'c', '.']"
      ]
     },
     "execution_count": 32,
     "metadata": {},
     "output_type": "execute_result"
    }
   ],
   "source": [
    "# wild card \n",
    "\n",
    "txt = \"123abc.\"\n",
    "x = re.findall(\".\", txt)\n",
    "print(x)\n",
    "# to escape the dot and look for dots on only use \\. \n",
    "x = re.findall(\".\", txt) \n",
    "\n",
    "x"
   ]
  },
  {
   "cell_type": "code",
   "execution_count": 33,
   "metadata": {},
   "outputs": [
    {
     "name": "stdout",
     "output_type": "stream",
     "text": [
      "['c']\n",
      "[]\n"
     ]
    }
   ],
   "source": [
    "# specific patterns. put them in brackets \n",
    "# pattern [abc] will only match a single a, b, or c letter and nothing else\n",
    "\n",
    "txt = \"can\"\n",
    "x = re.findall(\"[cmf]\", txt)\n",
    "txt = \"pan\"\n",
    "print(x)\n",
    "x = re.findall(\"[cmf]\", txt)\n",
    "print(x)\n"
   ]
  },
  {
   "cell_type": "code",
   "execution_count": 34,
   "metadata": {},
   "outputs": [
    {
     "name": "stdout",
     "output_type": "stream",
     "text": [
      "['a', 'n']\n",
      "[]\n"
     ]
    }
   ],
   "source": [
    "# exclude specific characters, use ^\n",
    "# pattern [^abc] will match any single character except for the letters a, b, or c.\n",
    "txt = \"can\"\n",
    "x = re.findall(\"[^cmf]\", txt)\n",
    "print(x)\n",
    "txt = \"cmf\"\n",
    "x = re.findall(\"[^cmf]\", txt)\n",
    "print(x)\n",
    "\n"
   ]
  },
  {
   "cell_type": "code",
   "execution_count": 35,
   "metadata": {},
   "outputs": [
    {
     "name": "stdout",
     "output_type": "stream",
     "text": [
      "['A']\n",
      "[]\n",
      "['c', 'm', 'f']\n"
     ]
    }
   ],
   "source": [
    "# Character ranges \n",
    "#  For example, the pattern [0-6] will only match any single digit character from zero to six, and nothing else. \n",
    "#  [^n-p] will only match any single character except for letters n to p.\n",
    "# using the dash to indicate a character range\n",
    "#  alphanumeric \\w metacharacter which is equivalent to the character range [A-Za-z0-9_]\n",
    "\n",
    "txt = \"Aan\"\n",
    "x = re.findall(\"[A-Z]\", txt)\n",
    "print(x)\n",
    "txt = \"cmf\"\n",
    "x = re.findall(\"[A-Z]\", txt)\n",
    "print(x)\n",
    "\n",
    "txt = \"cmf\"\n",
    "x = re.findall(\"[^A-Z]\", txt) # exlucde uppercase \n",
    "print(x)"
   ]
  },
  {
   "cell_type": "code",
   "execution_count": 40,
   "metadata": {},
   "outputs": [
    {
     "name": "stdout",
     "output_type": "stream",
     "text": [
      "['zzz']\n",
      "['zzzu']\n"
     ]
    }
   ],
   "source": [
    "# repetition \n",
    "#  a{3} will match the a character exactly three times\n",
    "# specify a range for this repetition such that a{1,3} \n",
    "#  [wxy]{5} (five characters, each of which can be a w, x, or y) and .{2,6} (between two and six of any character).\n",
    "\n",
    "\n",
    "txt = \"wazzzup\"\n",
    "x = re.findall(\"z{3}\", txt)\n",
    "print(x)\n",
    "txt = \"wazzzup\"\n",
    "x = re.findall(\"[zu]{4}\", txt)\n",
    "print(x)\n"
   ]
  },
  {
   "cell_type": "code",
   "execution_count": 52,
   "metadata": {},
   "outputs": [
    {
     "name": "stdout",
     "output_type": "stream",
     "text": [
      "a\n",
      "aaaa\n",
      "aaaabcc\n"
     ]
    }
   ],
   "source": [
    "# Kleene Star\n",
    "# 0 or more or 1 or more of the character that it follows (it always follows a character or group).\n",
    "# pattern \\d* to match any number of digits\n",
    "# \\d+ which ensures that the input string has at least one digit\n",
    "# example a+ (one or more a's), [abc]+ (one or more of any a, b, or c character) and \n",
    "# .* (zero or more of any character).\n",
    "\n",
    "txt = \"aaaabcc\"\n",
    "x = re.findall(\"a\", txt)[0]\n",
    "print(x)\n",
    "x = re.findall(\"a+\", txt)[0]\n",
    "print(x)\n",
    "x = re.findall(\"a+.c+\", txt)[0]\n",
    "print(x)\n"
   ]
  },
  {
   "cell_type": "code",
   "execution_count": 62,
   "metadata": {},
   "outputs": [
    {
     "name": "stdout",
     "output_type": "stream",
     "text": [
      "14 file\n"
     ]
    }
   ],
   "source": [
    "# optional Characters  \n",
    "# the pattern ab?c will match either the strings \"abc\" or \"ac\" because the b is considered optional.\n",
    "# escape it using a slash \\? \n",
    "\n",
    "txt = \"14 file found?\"\n",
    "x = re.findall(\"[0-9]+\\sfiles?\", txt)[0]\n",
    "print(x)"
   ]
  },
  {
   "cell_type": "code",
   "execution_count": 68,
   "metadata": {},
   "outputs": [
    {
     "name": "stdout",
     "output_type": "stream",
     "text": [
      "14 file\n",
      "14file\n"
     ]
    },
    {
     "data": {
      "text/plain": [
       "' '"
      ]
     },
     "execution_count": 68,
     "metadata": {},
     "output_type": "execute_result"
    }
   ],
   "source": [
    "# whitespace\n",
    "# space (␣), the tab (\\t), the new line (\\n) and the carriage return (\\r) \n",
    "# whitespace special character \\s will match any of the specific whitespaces above \n",
    "\n",
    "txt = \"14 file found?\"\n",
    "x = re.findall(\"[0-9]+\\sfiles?\", txt)[0]\n",
    "print(x)\n",
    "\n",
    "txt = \"14file found?\"\n",
    "x = re.findall(\"[0-9]+files?\", txt)[0]\n",
    "print(x)\n",
    "\n",
    "txt = \"3.           abc\"\n",
    "x = re.findall(\"\\s+\", txt)[0]\n",
    "len(x)\n",
    "txt = \"3.           abc\"\n",
    "x = re.findall(\"\\s\", txt)[0]\n",
    "x"
   ]
  },
  {
   "cell_type": "code",
   "execution_count": 74,
   "metadata": {},
   "outputs": [
    {
     "name": "stdout",
     "output_type": "stream",
     "text": [
      "Mission\n",
      "[]\n",
      "Mission\n"
     ]
    }
   ],
   "source": [
    "# Starting and ending \n",
    "# describes both the start and the end of the line using the special ^ (hat) and $ (dollar sign) metacharacter\n",
    "# ^success to match only a line that begins with the word \"success\"\n",
    "# Note that this is different than the hat used inside a set of bracket [^...] for excluding characters, \n",
    "# which can be confusing when reading regular expressio\n",
    "# for start and end of a line \n",
    "\n",
    "txt = \"Mission\"\n",
    "x = re.findall(\"^Mission$\", txt)[0]\n",
    "print(x)\n",
    "txt = \"Mission h\"\n",
    "x = re.findall(\"^Mission$\", txt)\n",
    "print(x)\n",
    "\n",
    "txt = \"Mission h\"\n",
    "x = re.findall(\"^Mission\", txt)[0]\n",
    "print(x)"
   ]
  },
  {
   "cell_type": "code",
   "execution_count": 76,
   "metadata": {},
   "outputs": [
    {
     "name": "stdout",
     "output_type": "stream",
     "text": [
      "file_record_transcript\n",
      "file_record_transcript.pdf\n"
     ]
    }
   ],
   "source": [
    "# Match groups   Lesson 11\n",
    "# defining groups of characters and capturing them using the special parentheses ( and ) metacharacters\n",
    "# pattern such as ^(IMG\\d+\\.png)$ to capture and extract the full filename\n",
    "# ^(IMG\\d+)\\.png$ which only captures the part before the period\n",
    "\n",
    "txt = \"file_record_transcript.pdf\"\n",
    "x = re.findall(\"^(file_.*)\\.pdf$\", txt)[0]\n",
    "print(x)\n",
    "txt = \"file_record_transcript.pdf\"\n",
    "x = re.findall(\"^(file_.*\\.pdf)$\", txt)[0] # keep extension \n",
    "print(x)"
   ]
  },
  {
   "cell_type": "code",
   "execution_count": null,
   "metadata": {},
   "outputs": [],
   "source": []
  }
 ],
 "metadata": {
  "kernelspec": {
   "display_name": "Python 3",
   "language": "python",
   "name": "python3"
  },
  "language_info": {
   "codemirror_mode": {
    "name": "ipython",
    "version": 3
   },
   "file_extension": ".py",
   "mimetype": "text/x-python",
   "name": "python",
   "nbconvert_exporter": "python",
   "pygments_lexer": "ipython3",
   "version": "3.7.4"
  }
 },
 "nbformat": 4,
 "nbformat_minor": 2
}
